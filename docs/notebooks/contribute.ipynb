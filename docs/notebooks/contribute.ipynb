{
 "metadata": {
  "name": "",
  "signature": "sha256:f344925093b7e4df9b8259027afab007fa199a2fdf44054038456fabe7249bfb"
 },
 "nbformat": 3,
 "nbformat_minor": 0,
 "worksheets": [
  {
   "cells": [
    {
     "cell_type": "heading",
     "level": 1,
     "metadata": {},
     "source": [
      "Contributing"
     ]
    },
    {
     "cell_type": "heading",
     "level": 2,
     "metadata": {},
     "source": [
      "Contributing documentation"
     ]
    },
    {
     "cell_type": "markdown",
     "metadata": {},
     "source": [
      "Firstly, we clone the main nilmtk repository:"
     ]
    },
    {
     "cell_type": "raw",
     "metadata": {},
     "source": [
      "cd ~\n",
      "git clone https://github.com/nilmtk/nilmtk/"
     ]
    },
    {
     "cell_type": "markdown",
     "metadata": {},
     "source": [
      "nilmtksite would contain all the content which gets uploaded to nilmtk.github.io, including sphinx content.:"
     ]
    },
    {
     "cell_type": "raw",
     "metadata": {},
     "source": [
      "git clone https://github.com/nilmtk/nilmtk.github.io nilmtksite"
     ]
    },
    {
     "cell_type": "markdown",
     "metadata": {},
     "source": [
      "Now, move back to the main repository:"
     ]
    },
    {
     "cell_type": "raw",
     "metadata": {},
     "source": [
      "cd ~/nilmtk"
     ]
    },
    {
     "cell_type": "markdown",
     "metadata": {},
     "source": [
      "As usual make changes to .rst files in ~/nilmtk/docs/source to contribute to documentation.\n",
      "\n",
      "Build your documentation:"
     ]
    },
    {
     "cell_type": "raw",
     "metadata": {},
     "source": [
      "cd ~/nilmtk/docs\n",
      "make html"
     ]
    },
    {
     "cell_type": "markdown",
     "metadata": {},
     "source": [
      "Now, built documentation should lie in ~/nilmtksite/html directory. You may use your browser to check if everything got built properly.\n",
      "\n",
      "Commit your changes and push to nilmtk. And then commit all your changes to nilmtksite. Thats all!"
     ]
    },
    {
     "cell_type": "heading",
     "level": 2,
     "metadata": {},
     "source": [
      "Using IPython notebooks"
     ]
    },
    {
     "cell_type": "markdown",
     "metadata": {},
     "source": [
      "Follow [this](http://sphinx-ipynb.readthedocs.org/en/latest/howto.html) guide!"
     ]
    },
    {
     "cell_type": "heading",
     "level": 3,
     "metadata": {},
     "source": [
      "sphinx-apidoc"
     ]
    },
    {
     "cell_type": "markdown",
     "metadata": {},
     "source": [
      "We use [sphinx-apidoc](http://sphinx-doc.org/man/sphinx-apidoc.html) to automatically generate API pages from the code. Run this code from the root nilmtk directory to regenerate the docs:"
     ]
    },
    {
     "cell_type": "raw",
     "metadata": {},
     "source": [
      "/nilmtk$ sphinx-apidoc -f -o docs/source nilmtk"
     ]
    }
   ],
   "metadata": {}
  }
 ]
}