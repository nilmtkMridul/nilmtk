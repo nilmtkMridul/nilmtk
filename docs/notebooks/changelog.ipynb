{
 "metadata": {
  "name": "",
  "signature": "sha256:7918ea0804e9fbfa8abb1fbfb2217c55b8135b3b1d682718c3e3a55b92607198"
 },
 "nbformat": 3,
 "nbformat_minor": 0,
 "worksheets": [
  {
   "cells": [
    {
     "cell_type": "heading",
     "level": 1,
     "metadata": {},
     "source": [
      "Change log"
     ]
    },
    {
     "cell_type": "markdown",
     "metadata": {},
     "source": [
      "This file describes major changes to NILMTK between versions."
     ]
    },
    {
     "cell_type": "heading",
     "level": 2,
     "metadata": {},
     "source": [
      "Development version (will become v0.3)"
     ]
    },
    {
     "cell_type": "heading",
     "level": 3,
     "metadata": {},
     "source": [
      "New features"
     ]
    },
    {
     "cell_type": "markdown",
     "metadata": {},
     "source": [
      "* `MeterGroup.plot()`\n",
      "* Correlation between different Elecmeters and corresponding plot; Issue \\#160\n",
      "* Finding number of simultaneous appliance switches; Issue \\#163\n",
      "* `CSVDataStore`\n",
      "* Finding entropy of an ElecMeter. Issue \\#250\n",
      "* `ElecMeter.plot_lag()`.  Issue \\#255.  See [Nipun's blog post](http://nipunbatra.github.io/2014/12/nilmtk-new-plots/).\n",
      "* `ElecMeter.plot_autocorrelation()`.  See [Nipun's blog post](http://nipunbatra.github.io/2014/12/nilmtk-new-plots/)."
     ]
    },
    {
     "cell_type": "heading",
     "level": 4,
     "metadata": {},
     "source": [
      "New dataset converters"
     ]
    },
    {
     "cell_type": "markdown",
     "metadata": {},
     "source": [
      "* AMPds\n",
      "* COMBED\n",
      "* ECO\n",
      "* GREEND\n",
      "* iAWE\n",
      "* UK-DALE\n",
      "* WikiEnergy"
     ]
    },
    {
     "cell_type": "heading",
     "level": 4,
     "metadata": {},
     "source": [
      "Disaggregation algorithms"
     ]
    },
    {
     "cell_type": "markdown",
     "metadata": {},
     "source": [
      "* An implementation of George Hart's 1985 algorithm\n",
      "* The combinatorial optimisation algorithm has received several updates including:\n",
      "\n",
      "    - it takes the 'vampire power' into account during disaggregation\n",
      "\n",
      "* Disaggregation output now includes basic metadata such as the appliance types."
     ]
    },
    {
     "cell_type": "heading",
     "level": 3,
     "metadata": {},
     "source": [
      "Performance improvements"
     ]
    },
    {
     "cell_type": "markdown",
     "metadata": {},
     "source": [
      "* `HDFDataStore.load()` is more than 40 times faster than in v0.2. This function is called by pretty much every other function so this speed up should be felt throughout much of NILMTK."
     ]
    },
    {
     "cell_type": "heading",
     "level": 3,
     "metadata": {},
     "source": [
      "API changes"
     ]
    },
    {
     "cell_type": "markdown",
     "metadata": {},
     "source": [
      "* `ElecMeter.total_energy()` and `MeterGroup.total_energy()` always returns a `pd.Series` if `full_results=False` (it used to return a scalar if the meter only had a single AC type, or a Series if there were multiple AC types).\n",
      "* ``HDFDataStore.append()`` actually appends now!  (It used to `put`).  We now have separate `DataStore.append` and `DataStore.put` methods."
     ]
    },
    {
     "cell_type": "heading",
     "level": 3,
     "metadata": {},
     "source": [
      "Statistics"
     ]
    },
    {
     "cell_type": "markdown",
     "metadata": {},
     "source": [
      "* `MeterGroup.proportion_of_energy_submetered()` does a better job of comparing AC types."
     ]
    },
    {
     "cell_type": "heading",
     "level": 3,
     "metadata": {},
     "source": [
      "Bug fixes"
     ]
    },
    {
     "cell_type": "markdown",
     "metadata": {},
     "source": [
      "* `MeterGroup.proportion_of_energy_submetered()` has had multiple fixes."
     ]
    },
    {
     "cell_type": "heading",
     "level": 2,
     "metadata": {},
     "source": [
      "v0.2"
     ]
    },
    {
     "cell_type": "markdown",
     "metadata": {},
     "source": [
      "v0.2 was released on the 12th July 2014.\n",
      "\n",
      "NILMTK v0.2 is a complete re-write of NILMTK from the ground up.\n",
      "\n",
      "Some feature highlights of v0.2:\n",
      "\n",
      "* The entire pipeline (loading, stats, preprocessing, disag, metrics) can cope with arbitrarily large datasets whilst being gently on the system RAM usage\n",
      "* Full metadata support, including for arbitrary wiring hierarchies\n",
      "* MeterGroup allows users to select and aggregate meters in powerful ways with a single line of code.  e.g. to see the total energy used by all the lights in a house just do 'elec.select(category='lighting').total_energy()'.\n",
      "* Much more elegant handling of \"dual supply\" and split-phase mains (using MeterGroup)\n",
      "* Experimental support for preconditions checks for some stats function.\n",
      "* OOP design hides complexity from the user\n",
      "* CO works well\n",
      "* Most metrics have been converted\n",
      "* REDD converter works\n",
      "* about 40 unit tests\n",
      "* Disag output is now saved chunk-by-chunk to disk, allowing us to disag and do metrics on arbitrarily large datasets.  Also lays the foundation for sharing raw disag output and for users to be able to ignore all the NILMTK pipeline except the metrics\n",
      "* Automatic selection of the best type of power measurement (reactive, active or apparent) etc etc...\n",
      "\n",
      "However, there are still some things that are implemented in NILMTK\n",
      "v0.1 but are not yet in v0.2.  For example:\n",
      "\n",
      "* v0.2 does not yet include all the dataset importers that v0.1 had.\n",
      "* v0.2 only has one disag algo: CO.  It should be fairly simple to port the FHMM algo from v0.1\n",
      "* There are a few stats functions and metrics which we haven't had a chance to port."
     ]
    },
    {
     "cell_type": "heading",
     "level": 2,
     "metadata": {},
     "source": [
      "NILMTK v0.1"
     ]
    },
    {
     "cell_type": "markdown",
     "metadata": {},
     "source": [
      "NILMTK v0.1 was released on Feb 7th 2014."
     ]
    }
   ],
   "metadata": {}
  }
 ]
}