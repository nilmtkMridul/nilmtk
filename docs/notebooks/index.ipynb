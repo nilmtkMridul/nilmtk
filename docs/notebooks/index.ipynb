{
 "metadata": {
  "name": "",
  "signature": "sha256:86eafc55ffe608cc4f1533ac5fb7fe75d826c2ccd42a5c1792cc7476a50e6894"
 },
 "nbformat": 3,
 "nbformat_minor": 0,
 "worksheets": [
  {
   "cells": [
    {
     "cell_type": "heading",
     "level": 6,
     "metadata": {},
     "source": [
      "Unfinished"
     ]
    },
    {
     "cell_type": "heading",
     "level": 1,
     "metadata": {},
     "source": [
      "Welcome to NILMTK's documentation!"
     ]
    },
    {
     "cell_type": "markdown",
     "metadata": {},
     "source": [
      "* [Intro to NILMTK v0.2](./intro_nilmtk_v0_2.ipynb)"
     ]
    },
    {
     "cell_type": "heading",
     "level": 2,
     "metadata": {},
     "source": [
      "User Manual"
     ]
    },
    {
     "cell_type": "markdown",
     "metadata": {},
     "source": [
      "* [Convert data to NILMTK format and load into NILMTK](./convert_data_to_NILMTK_format.ipynb)\n",
      "    - [REDD](./convert_data_to_NILMTK_format.ipynb#REDD)\n",
      "    - [Other datasets](./convert_data_to_NILMTK_format.ipynb#Other-datasets)\n",
      "    - [Open HDF5 in NILMTK](./convert_data_to_NILMTK_format.ipynb#Open-HDF5-in-NILMTK)\n",
      "* [MeterGroup, ElecMeter, selection and basic statistics](./elecmeter_and_metergroup.ipynb)\n",
      "* [Processing pipeline, preprocessing and more stats](./pipeline_preprocessing_more_stats.ipynb)\n",
      "* [Disaggregation and Metrics](./disaggregation_and_metrics.ipynb)"
     ]
    },
    {
     "cell_type": "heading",
     "level": 2,
     "metadata": {},
     "source": [
      "Developer Manual"
     ]
    },
    {
     "cell_type": "markdown",
     "metadata": {},
     "source": [
      "* [Contributing](./contribute.ipynb)\n",
      "* [Writing a dataset converter](./writing_a_dataset_converter.ipynb)\n",
      "* [Change Log](./changelog.ipynb)"
     ]
    },
    {
     "cell_type": "heading",
     "level": 2,
     "metadata": {},
     "source": [
      "API"
     ]
    },
    {
     "cell_type": "markdown",
     "metadata": {},
     "source": [
      "* [nilmtk package](./nilmtk.ipynb)"
     ]
    },
    {
     "cell_type": "heading",
     "level": 1,
     "metadata": {},
     "source": [
      "Indices and tables"
     ]
    },
    {
     "cell_type": "markdown",
     "metadata": {},
     "source": [
      "* [Index](./genindex.ipynb)\n",
      "* [Module Index](./py-modindex.ipynb)\n",
      "* [Search Page](./search.ipynb)"
     ]
    }
   ],
   "metadata": {}
  }
 ]
}