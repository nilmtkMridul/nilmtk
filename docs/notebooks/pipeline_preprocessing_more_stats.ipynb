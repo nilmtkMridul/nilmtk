{
 "metadata": {
  "name": "",
  "signature": "sha256:4d8289c47d084757aa6d292d34291a618bbf24e44ea610d0f6d776575a2d0b3c"
 },
 "nbformat": 3,
 "nbformat_minor": 0,
 "worksheets": [
  {
   "cells": [
    {
     "cell_type": "heading",
     "level": 6,
     "metadata": {},
     "source": [
      "Unfinished"
     ]
    },
    {
     "cell_type": "heading",
     "level": 1,
     "metadata": {},
     "source": [
      "Processing pipeline, preprocessing and more stats"
     ]
    },
    {
     "cell_type": "markdown",
     "metadata": {},
     "source": [
      "At the core of NILMTK v0.2 is the concept of an 'out-of-core' processing\n",
      "pipeline. What does that mean? 'out-of-core' refers to the ability to\n",
      "handle datasets which are too large to fit into system memory. NILMTK\n",
      "achieves this by setting up a processing pipeline which handle a chunk\n",
      "of data at a time. We load small chunks from disk and pull these chunks\n",
      "through a processing pipeline. Each pipeine is made up of `Nodes`.\n",
      "These can either be stats nodes or preprocessing nodes. Under the hood,\n",
      "a pipeline is implemented as a chain of Python `generators`. Stats\n",
      "nodes live in `nilmtk.stats` and preprocessing nodes in\n",
      "`nilmtk.preprocessing`. Most stats are wrapped by helper functions in\n",
      "`ElecMeter` and `MeterGroup` so you only have to dive in an play\n",
      "directly with Nodes and the pipeline if you want to assemble your own\n",
      "stats and preprocessing functions.\n",
      "\n",
      "Having a pipeline which can handle small chunks not only allows us to\n",
      "load arbitrarily large datasets. It also allows us to calculate stats on\n",
      "arbitrary sized chunks of data (e.g. energy per day, or appliance usage\n",
      "per week etc). To facilitate this, Stats nodes (e.g. for calculating\n",
      "total energy or for finding missing samples) store their results in a\n",
      "separate `Results` object. For example, the `TotalEnergy` stats node\n",
      "stores its results in a `TotalEnergyResults` object:"
     ]
    },
    {
     "cell_type": "code",
     "collapsed": false,
     "input": [
      "from nilmtk import DataSet\n",
      "\n",
      "redd = DataSet('/home/mridul/nilmtkProject/REDDDataset/low_freq/redd.h5')\n",
      "elec = redd.buildings[1].elec\n",
      "fridge_meter = elec['fridge']\n",
      "\n",
      "total_fridge_energy = fridge_meter.total_energy(full_results=True)\n",
      "type(total_fridge_energy)"
     ],
     "language": "python",
     "metadata": {},
     "outputs": [
      {
       "metadata": {},
       "output_type": "pyout",
       "prompt_number": 1,
       "text": [
        "nilmtk.stats.totalenergyresults.TotalEnergyResults"
       ]
      }
     ],
     "prompt_number": 1
    },
    {
     "cell_type": "code",
     "collapsed": false,
     "input": [
      "total_fridge_energy"
     ],
     "language": "python",
     "metadata": {},
     "outputs": [
      {
       "metadata": {},
       "output_type": "pyout",
       "prompt_number": 2,
       "text": [
        "                              active                        end\n",
        "2011-04-18 09:22:13-04:00  44.750925  2011-05-24 15:56:34-04:00"
       ]
      }
     ],
     "prompt_number": 2
    },
    {
     "cell_type": "markdown",
     "metadata": {},
     "source": [
      "Why store results in their own objects? Because these objects need to\n",
      "know how to combine results from multiple chunks.\n",
      "\n",
      "So, for example, let us get the total energy per day:"
     ]
    },
    {
     "cell_type": "code",
     "collapsed": false,
     "input": [
      "from nilmtk.timeframe import timeframes_from_periodindex\n",
      "import pandas as pd\n",
      "\n",
      "# First find the total time span for the fridge data:\n",
      "tf = fridge_meter.get_timeframe()\n",
      "tf"
     ],
     "language": "python",
     "metadata": {},
     "outputs": [
      {
       "ename": "ImportError",
       "evalue": "cannot import name timeframes_from_periodindex",
       "output_type": "pyerr",
       "traceback": [
        "\u001b[1;31m---------------------------------------------------------------------------\u001b[0m\n\u001b[1;31mImportError\u001b[0m                               Traceback (most recent call last)",
        "\u001b[1;32m<ipython-input-3-2eb268054d45>\u001b[0m in \u001b[0;36m<module>\u001b[1;34m()\u001b[0m\n\u001b[1;32m----> 1\u001b[1;33m \u001b[1;32mfrom\u001b[0m \u001b[0mnilmtk\u001b[0m\u001b[1;33m.\u001b[0m\u001b[0mtimeframe\u001b[0m \u001b[1;32mimport\u001b[0m \u001b[0mtimeframes_from_periodindex\u001b[0m\u001b[1;33m\u001b[0m\u001b[0m\n\u001b[0m\u001b[0;32m      2\u001b[0m \u001b[1;32mimport\u001b[0m \u001b[0mpandas\u001b[0m \u001b[1;32mas\u001b[0m \u001b[0mpd\u001b[0m\u001b[1;33m\u001b[0m\u001b[0m\n\u001b[0;32m      3\u001b[0m \u001b[1;33m\u001b[0m\u001b[0m\n\u001b[0;32m      4\u001b[0m \u001b[1;31m# First find the total time span for the fridge data:\u001b[0m\u001b[1;33m\u001b[0m\u001b[1;33m\u001b[0m\u001b[0m\n\u001b[0;32m      5\u001b[0m \u001b[0mtf\u001b[0m \u001b[1;33m=\u001b[0m \u001b[0mfridge_meter\u001b[0m\u001b[1;33m.\u001b[0m\u001b[0mget_timeframe\u001b[0m\u001b[1;33m(\u001b[0m\u001b[1;33m)\u001b[0m\u001b[1;33m\u001b[0m\u001b[0m\n",
        "\u001b[1;31mImportError\u001b[0m: cannot import name timeframes_from_periodindex"
       ]
      }
     ],
     "prompt_number": 3
    },
    {
     "cell_type": "code",
     "collapsed": false,
     "input": [
      "#### YET TO EXECUTE AS LINE 3 GIVES ERROR\n",
      "# Now make a PeriodIndex of daily periods:\n",
      "period_index = pd.period_range(start=tf.start, periods=5, freq='D')\n",
      "list(period_index) # just converting to a list for pretty printing"
     ],
     "language": "python",
     "metadata": {},
     "outputs": []
    },
    {
     "cell_type": "markdown",
     "metadata": {},
     "source": [
      "Now we can get the energy per day:"
     ]
    },
    {
     "cell_type": "code",
     "collapsed": false,
     "input": [
      "#### YET TO EXECUTE AS LINE 3 GIVES ERROR\n",
      "energy_per_day = fridge_meter.total_energy(sections=period_index, full_results=True)\n",
      "energy_per_day"
     ],
     "language": "python",
     "metadata": {},
     "outputs": []
    },
    {
     "cell_type": "markdown",
     "metadata": {},
     "source": [
      "And there we have it: the energy use per day. The days start at 8pm\n",
      "because REDD is UTC-4:"
     ]
    },
    {
     "cell_type": "code",
     "collapsed": false,
     "input": [
      "redd.metadata['timezone']"
     ],
     "language": "python",
     "metadata": {},
     "outputs": [
      {
       "metadata": {},
       "output_type": "pyout",
       "prompt_number": 4,
       "text": [
        "'US/Eastern'"
       ]
      }
     ],
     "prompt_number": 4
    },
    {
     "cell_type": "code",
     "collapsed": false,
     "input": [],
     "language": "python",
     "metadata": {},
     "outputs": []
    }
   ],
   "metadata": {}
  }
 ]
}